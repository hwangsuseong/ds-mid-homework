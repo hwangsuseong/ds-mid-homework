{
 "cells": [
  {
   "cell_type": "markdown",
   "id": "9221d71b",
   "metadata": {},
   "source": [
    "### 201903880 아랍어과 황수성\n",
    "\n",
    "##### 기본 파일"
   ]
  },
  {
   "cell_type": "code",
   "execution_count": 16,
   "id": "7e9beb83",
   "metadata": {},
   "outputs": [],
   "source": [
    "class Node:\n",
    "    def __init__(self, data):\n",
    "        self.data = data\n",
    "        self.next = None\n",
    "\n",
    "class LinkedList:\n",
    "\n",
    "    def __init__(self):\n",
    "        dummy = Node(\"dummy\")\n",
    "        self.head = dummy\n",
    "        self.tail = dummy\n",
    "\n",
    "        self.current = None\n",
    "        self.before = None\n",
    "\n",
    "        self.num_of_data = 0\n",
    "\n",
    "    def append(self, data):\n",
    "        new_node = Node(data)\n",
    "        self.tail.next = new_node\n",
    "        self.tail = new_node\n",
    "\n",
    "        self.num_of_data += 1\n",
    "\n",
    "    def delete(self):\n",
    "        pop_data = self.current.data\n",
    "\n",
    "        if self.current is self.tail:\n",
    "            self.tail = self.before\n",
    "\n",
    "        self.before.next = self.current.next\n",
    "        self.current = self.before\n",
    "\n",
    "        self.num_of_data -= 1\n",
    "\n",
    "        return pop_data\n",
    "\n",
    "    def first(self):\n",
    "        if self.num_of_data == 0:\n",
    "            return None\n",
    "\n",
    "        self.before = self.head\n",
    "        self.current = self.head.next\n",
    "\n",
    "        return self.current.data\n",
    "\n",
    "    def next(self):\n",
    "        if self.current.next == None:\n",
    "            return None\n",
    "\n",
    "        self.before = self.current\n",
    "        self.current = self.current.next\n",
    "\n",
    "        return self.current.data\n",
    "\n",
    "    def size(self):\n",
    "        return self.num_of_data\n",
    "    \n",
    "    def traverse_all(self):\n",
    "        if self.num_of_data == 0:\n",
    "            print(\"null\")\n",
    "            return\n",
    "        else:\n",
    "            data_list = []\n",
    "            node = self.head.next\n",
    "            while node:\n",
    "                data_list.append(str(node.data))\n",
    "                node = node.next\n",
    "            print(\"->\".join([\"head\"] + data_list + [\"null\"]))\n",
    "            \n",
    "    def insert_at(self, position, new_data):\n",
    "        if position <= 0:\n",
    "            print(\"error\")\n",
    "            return\n",
    "        elif position > self.num_of_data:\n",
    "            self.append(new_data)\n",
    "            return\n",
    "        else:\n",
    "            new_node = Node(new_data)\n",
    "            node = self.head\n",
    "            for i in range(position-1):\n",
    "                node = node.next\n",
    "            new_node.next = node.next\n",
    "            node.next = new_node\n",
    "            self.num_of_data += 1\n",
    "            return"
   ]
  },
  {
   "cell_type": "code",
   "execution_count": null,
   "id": "93e56c40",
   "metadata": {},
   "outputs": [],
   "source": []
  },
  {
   "cell_type": "code",
   "execution_count": 18,
   "id": "c849111e",
   "metadata": {
    "scrolled": true
   },
   "outputs": [
    {
     "name": "stdout",
     "output_type": "stream",
     "text": [
      "head->10->20->40->40->50->null\n",
      "head->10->20->30->40->40->50->null\n"
     ]
    }
   ],
   "source": [
    "l = LinkedList()\n",
    "l.append(10)\n",
    "l.append(20)\n",
    "l.append(40)\n",
    "l.append(40)\n",
    "l.append(50)\n",
    "\n",
    "l.traverse_all()\n",
    "\n",
    "l.insert_at(3,30)\n",
    "\n",
    "l.traverse_all()"
   ]
  },
  {
   "cell_type": "code",
   "execution_count": null,
   "id": "61068dc0",
   "metadata": {},
   "outputs": [],
   "source": []
  }
 ],
 "metadata": {
  "kernelspec": {
   "display_name": "Python 3 (ipykernel)",
   "language": "python",
   "name": "python3"
  },
  "language_info": {
   "codemirror_mode": {
    "name": "ipython",
    "version": 3
   },
   "file_extension": ".py",
   "mimetype": "text/x-python",
   "name": "python",
   "nbconvert_exporter": "python",
   "pygments_lexer": "ipython3",
   "version": "3.10.9"
  }
 },
 "nbformat": 4,
 "nbformat_minor": 5
}
