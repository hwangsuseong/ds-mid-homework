{
 "cells": [
  {
   "cell_type": "markdown",
   "id": "9221d71b",
   "metadata": {},
   "source": [
    "### 201903880 아랍어과 황수성\n",
    "#### 정상동작"
   ]
  },
  {
   "cell_type": "code",
   "execution_count": 20,
   "id": "7e9beb83",
   "metadata": {},
   "outputs": [],
   "source": [
    "class Node:\n",
    "    def __init__(self, data):\n",
    "        self.data = data\n",
    "        self.next = None\n",
    "\n",
    "class LinkedList:\n",
    "\n",
    "    def __init__(self):\n",
    "        dummy = Node(\"dummy\")\n",
    "        self.head = dummy\n",
    "        self.tail = dummy\n",
    "\n",
    "        self.current = None\n",
    "        self.before = None\n",
    "\n",
    "        self.num_of_data = 0\n",
    "\n",
    "    def append(self, data):\n",
    "        new_node = Node(data)\n",
    "        self.tail.next = new_node\n",
    "        self.tail = new_node\n",
    "\n",
    "        self.num_of_data += 1\n",
    "\n",
    "    def delete(self):\n",
    "        pop_data = self.current.data\n",
    "\n",
    "        if self.current is self.tail:\n",
    "            self.tail = self.before\n",
    "\n",
    "        self.before.next = self.current.next\n",
    "        self.current = self.before\n",
    "\n",
    "        self.num_of_data -= 1\n",
    "\n",
    "        return pop_data\n",
    "\n",
    "    def first(self):\n",
    "        if self.num_of_data == 0:\n",
    "            return None\n",
    "\n",
    "        self.before = self.head\n",
    "        self.current = self.head.next\n",
    "\n",
    "        return self.current.data\n",
    "\n",
    "    def next(self):\n",
    "        if self.current.next == None:\n",
    "            return None\n",
    "\n",
    "        self.before = self.current\n",
    "        self.current = self.current.next\n",
    "\n",
    "        return self.current.data\n",
    "\n",
    "    def size(self):\n",
    "        return self.num_of_data\n",
    "    \n",
    "    def traverse_all(self):\n",
    "        if self.num_of_data == 0:\n",
    "            print(\"null\")\n",
    "            return\n",
    "        else:\n",
    "            data_list = []\n",
    "            node = self.head.next\n",
    "            while node:\n",
    "                data_list.append(str(node.data))\n",
    "                node = node.next\n",
    "            print(\"->\".join([\"head\"] + data_list + [\"null\"]))\n",
    "            \n",
    "    def insert_at(self, position, new_data):\n",
    "        if position <= 0:\n",
    "            print(\"error\")\n",
    "            return\n",
    "        elif position > self.num_of_data:\n",
    "            self.append(new_data)\n",
    "            return\n",
    "        else:\n",
    "            new_node = Node(new_data)\n",
    "            node = self.head\n",
    "            for i in range(position-1):\n",
    "                node = node.next\n",
    "            new_node.next = node.next\n",
    "            node.next = new_node\n",
    "            self.num_of_data += 1\n",
    "            return\n",
    "        \n",
    "    def remove(self, key):\n",
    "        indices = []\n",
    "        count = 0\n",
    "        self.before = self.head\n",
    "        self.current = self.head.next\n",
    "        index = 1\n",
    "        while self.current is not None:\n",
    "            if self.current.data == key:\n",
    "                self.before.next = self.current.next\n",
    "                indices.append(index)\n",
    "                self.num_of_data -= 1\n",
    "                count += 1\n",
    "            else:\n",
    "                self.before = self.current\n",
    "            self.current = self.current.next\n",
    "            index += 1\n",
    "        if count > 0:\n",
    "            print(f\"{indices}번째 원소(key)를 삭제합니다.\")\n",
    "        else:\n",
    "            print(\"해당하는 원소가 없습니다.\")"
   ]
  },
  {
   "cell_type": "code",
   "execution_count": null,
   "id": "93e56c40",
   "metadata": {},
   "outputs": [],
   "source": []
  },
  {
   "cell_type": "code",
   "execution_count": 35,
   "id": "2d1dcbb9",
   "metadata": {
    "scrolled": true
   },
   "outputs": [
    {
     "name": "stdout",
     "output_type": "stream",
     "text": [
      "head->10->20->30->70->40->50->null\n",
      "[4]번째 원소(key)를 삭제합니다.\n",
      "head->10->20->30->40->50->null\n"
     ]
    }
   ],
   "source": [
    "l = LinkedList()\n",
    "l.append(10)\n",
    "l.append(20)\n",
    "l.append(70)\n",
    "l.append(40)\n",
    "l.append(50)\n",
    "\n",
    "l.insert_at(3,30)\n",
    "l.traverse_all()\n",
    "\n",
    "l.remove(70)\n",
    "l.traverse_all()"
   ]
  },
  {
   "cell_type": "markdown",
   "id": "d8f59f88",
   "metadata": {},
   "source": [
    "## 코드 사이에 마크다운을 써서 코드를 분리하면 오류가 발생해 부득이 하게 메소드 설명은 한꺼번에 하겠습니다."
   ]
  },
  {
   "cell_type": "markdown",
   "id": "0be76b46",
   "metadata": {},
   "source": [
    "### 1. traverse_all()\n",
    "#### 만약 데이터가 없으면 'null'을 출력하고, 데이터가 있으면 while 반복문을 통해 data_list에 값을 저장했다가 join 함수로 형식에 맞게 출력함. "
   ]
  },
  {
   "cell_type": "markdown",
   "id": "bc4912a0",
   "metadata": {},
   "source": [
    "### 2. insert_at(position, new_data)\n",
    "#### 만약 내가 데이터를 넣고 싶은 position이 0보다 작으면 에러, 현재 데이터 수보다 position을 원하면 append로 추가해주고, 데이터들 중간의 position을 입력하면 for문으로 원하는 자리를 찾아 값을 입력해줌."
   ]
  },
  {
   "cell_type": "markdown",
   "id": "9804bd9a",
   "metadata": {},
   "source": [
    "### 3. remove(key)\n",
    "#### 현재 값이 주어진 key 값과 일치하는 지 확인. 만약 일치하면 다음 노드로 이동하고, indices 리스트에 현재 노드의 인덱스 값 추가하면서 count 변수 1 증가. 일치 하지 않으면 sefl.before 변수를 self.current 노드로 업데이트.\n",
    "\n",
    "#### 값을 다 확인하고 count 변수가 0보다 크면 indices에 저장된 인덱스 값들을 출력하고 0이면 해당 key값을 가진 노드는 없다고 출력\n"
   ]
  },
  {
   "cell_type": "code",
   "execution_count": null,
   "id": "d007e1cf",
   "metadata": {},
   "outputs": [],
   "source": []
  }
 ],
 "metadata": {
  "kernelspec": {
   "display_name": "Python 3 (ipykernel)",
   "language": "python",
   "name": "python3"
  },
  "language_info": {
   "codemirror_mode": {
    "name": "ipython",
    "version": 3
   },
   "file_extension": ".py",
   "mimetype": "text/x-python",
   "name": "python",
   "nbconvert_exporter": "python",
   "pygments_lexer": "ipython3",
   "version": "3.10.9"
  }
 },
 "nbformat": 4,
 "nbformat_minor": 5
}
